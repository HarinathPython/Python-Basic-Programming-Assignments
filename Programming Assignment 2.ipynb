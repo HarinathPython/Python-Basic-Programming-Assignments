{
 "cells": [
  {
   "cell_type": "code",
   "execution_count": 11,
   "metadata": {},
   "outputs": [
    {
     "name": "stdout",
     "output_type": "stream",
     "text": [
      "Enter no of kilometers: 287980\n",
      "kilometers of  287980.00 =  178942.42 Miles\n"
     ]
    }
   ],
   "source": [
    "# Q1: Write a program to convert kilometers to miles?\n",
    "\n",
    "a = float(input(\"Enter no of kilometers: \"))\n",
    "conversion_factor = 0.621371\n",
    "b = a*conversion_factor\n",
    "print(f\"kilometers of {a:10.2f} = {b:10.2f} Miles\")"
   ]
  },
  {
   "cell_type": "code",
   "execution_count": 13,
   "metadata": {},
   "outputs": [
    {
     "name": "stdout",
     "output_type": "stream",
     "text": [
      "Enter the temperature in celsius: 50\n",
      "50.00 celsius = 122.00 Fahrenheit\n"
     ]
    }
   ],
   "source": [
    "# Q2: Write a program to convert celsius to fahrenheit?\n",
    "\n",
    "celsius = float(input(\"Enter the temperature in celsius: \"))\n",
    "fahrenheit = (celsius * 1.8) + 32\n",
    "print(f\"{celsius:1.2f} celsius = {fahrenheit:1.2f} Fahrenheit\")"
   ]
  },
  {
   "cell_type": "code",
   "execution_count": 16,
   "metadata": {},
   "outputs": [
    {
     "name": "stdout",
     "output_type": "stream",
     "text": [
      "Enter year of the calendar: 2025\n",
      "                                  2025\n",
      "\n",
      "      January                   February                   March\n",
      "Mo Tu We Th Fr Sa Su      Mo Tu We Th Fr Sa Su      Mo Tu We Th Fr Sa Su\n",
      "       1  2  3  4  5                      1  2                      1  2\n",
      " 6  7  8  9 10 11 12       3  4  5  6  7  8  9       3  4  5  6  7  8  9\n",
      "13 14 15 16 17 18 19      10 11 12 13 14 15 16      10 11 12 13 14 15 16\n",
      "20 21 22 23 24 25 26      17 18 19 20 21 22 23      17 18 19 20 21 22 23\n",
      "27 28 29 30 31            24 25 26 27 28            24 25 26 27 28 29 30\n",
      "                                                    31\n",
      "\n",
      "       April                      May                       June\n",
      "Mo Tu We Th Fr Sa Su      Mo Tu We Th Fr Sa Su      Mo Tu We Th Fr Sa Su\n",
      "    1  2  3  4  5  6                1  2  3  4                         1\n",
      " 7  8  9 10 11 12 13       5  6  7  8  9 10 11       2  3  4  5  6  7  8\n",
      "14 15 16 17 18 19 20      12 13 14 15 16 17 18       9 10 11 12 13 14 15\n",
      "21 22 23 24 25 26 27      19 20 21 22 23 24 25      16 17 18 19 20 21 22\n",
      "28 29 30                  26 27 28 29 30 31         23 24 25 26 27 28 29\n",
      "                                                    30\n",
      "\n",
      "        July                     August                  September\n",
      "Mo Tu We Th Fr Sa Su      Mo Tu We Th Fr Sa Su      Mo Tu We Th Fr Sa Su\n",
      "    1  2  3  4  5  6                   1  2  3       1  2  3  4  5  6  7\n",
      " 7  8  9 10 11 12 13       4  5  6  7  8  9 10       8  9 10 11 12 13 14\n",
      "14 15 16 17 18 19 20      11 12 13 14 15 16 17      15 16 17 18 19 20 21\n",
      "21 22 23 24 25 26 27      18 19 20 21 22 23 24      22 23 24 25 26 27 28\n",
      "28 29 30 31               25 26 27 28 29 30 31      29 30\n",
      "\n",
      "      October                   November                  December\n",
      "Mo Tu We Th Fr Sa Su      Mo Tu We Th Fr Sa Su      Mo Tu We Th Fr Sa Su\n",
      "       1  2  3  4  5                      1  2       1  2  3  4  5  6  7\n",
      " 6  7  8  9 10 11 12       3  4  5  6  7  8  9       8  9 10 11 12 13 14\n",
      "13 14 15 16 17 18 19      10 11 12 13 14 15 16      15 16 17 18 19 20 21\n",
      "20 21 22 23 24 25 26      17 18 19 20 21 22 23      22 23 24 25 26 27 28\n",
      "27 28 29 30 31            24 25 26 27 28 29 30      29 30 31\n",
      "\n"
     ]
    }
   ],
   "source": [
    "# Q3: Write a program to display calendar?\n",
    "\n",
    "import calendar\n",
    "\n",
    "yy = int(input(\"Enter year of the calendar: \"))\n",
    "\n",
    "print(calendar.calendar(yy))"
   ]
  },
  {
   "cell_type": "code",
   "execution_count": 33,
   "metadata": {},
   "outputs": [
    {
     "name": "stdout",
     "output_type": "stream",
     "text": [
      "Enter the quadratic equation value of a: 2\n",
      "Enter the quadratic equation value of b: 3\n",
      "Enter the quadratic equation value of c: 4\n",
      "Complex Roots\n",
      "-0.75  + i 4.795831523312719\n",
      "-0.75  - i 4.795831523312719\n"
     ]
    }
   ],
   "source": [
    "# Q4: Write a python program to solve quadratic equation?\n",
    "\n",
    "import math\n",
    "\n",
    "def quad_equation(a,b,c):\n",
    "    if a == 0:\n",
    "        print(\"Input correct quadratic eauation\")\n",
    "    else:\n",
    "        dis = b * b - 4 * a * c \n",
    "        sqrt_val = math.sqrt(abs(dis))\n",
    "    \n",
    "        if dis > 0: \n",
    "            print(\" real and different roots \") \n",
    "            print((-b + sqrt_val)/(2 * a)) \n",
    "            print((-b - sqrt_val)/(2 * a)) \n",
    "      \n",
    "        elif dis == 0: \n",
    "            print(\" real and same roots\") \n",
    "            print(-b / (2 * a)) \n",
    "      \n",
    "    # when discriminant is less than 0\n",
    "        else:\n",
    "            print(\"Complex Roots\") \n",
    "            print(- b / (2 * a), \" + i\", sqrt_val) \n",
    "            print(- b / (2 * a), \" - i\", sqrt_val) \n",
    "\n",
    "def quadratic_equation():\n",
    "    _a = float(input(\"Enter the quadratic equation value of a: \"))\n",
    "    _b = float(input(\"Enter the quadratic equation value of b: \"))\n",
    "    _c = float(input(\"Enter the quadratic equation value of c: \"))\n",
    "    quad_equation(a = _a,b = _b,c=_c)\n",
    "quadratic_equation()"
   ]
  },
  {
   "cell_type": "code",
   "execution_count": 32,
   "metadata": {},
   "outputs": [
    {
     "name": "stdout",
     "output_type": "stream",
     "text": [
      "Enter the value of a: 10\n",
      "Enter the value of b: 20\n",
      "Before swapping the values are: a = 10 and b = 20\n",
      "After swapping the values are: a = 20 and b = 10\n"
     ]
    }
   ],
   "source": [
    "a = input(\"Enter the value of a: \")\n",
    "b = input(\"Enter the value of b: \")\n",
    "print(f\"Before swapping the values are: a = {a} and b = {b}\")\n",
    "a, b  = b, a\n",
    "\n",
    "print(f\"After swapping the values are: a = {a} and b = {b}\")"
   ]
  },
  {
   "cell_type": "code",
   "execution_count": null,
   "metadata": {},
   "outputs": [],
   "source": []
  }
 ],
 "metadata": {
  "kernelspec": {
   "display_name": "Python 3",
   "language": "python",
   "name": "python3"
  },
  "language_info": {
   "codemirror_mode": {
    "name": "ipython",
    "version": 3
   },
   "file_extension": ".py",
   "mimetype": "text/x-python",
   "name": "python",
   "nbconvert_exporter": "python",
   "pygments_lexer": "ipython3",
   "version": "3.8.3"
  }
 },
 "nbformat": 4,
 "nbformat_minor": 4
}
