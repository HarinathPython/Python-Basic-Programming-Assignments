{
 "cells": [
  {
   "cell_type": "code",
   "execution_count": 1,
   "metadata": {},
   "outputs": [
    {
     "name": "stdout",
     "output_type": "stream",
     "text": [
      "Hello Python\n"
     ]
    }
   ],
   "source": [
    "#Q1: Write a program to print \"Hello Python\".\n",
    "\n",
    "print(\"Hello Python\")"
   ]
  },
  {
   "cell_type": "code",
   "execution_count": 6,
   "metadata": {},
   "outputs": [
    {
     "name": "stdout",
     "output_type": "stream",
     "text": [
      "Enter the value a : 20\n",
      "Enter the value b : 30\n",
      "50\n",
      "0.6666666666666666\n"
     ]
    }
   ],
   "source": [
    "#Q2: Write a program to do arithematical operation addition and division.\n",
    "\n",
    "a = int(input(\"Enter the value a : \"))\n",
    "b = int(input(\"Enter the value b : \"))\n",
    "print(a+b)\n",
    "print(a/b)"
   ]
  },
  {
   "cell_type": "code",
   "execution_count": 8,
   "metadata": {},
   "outputs": [
    {
     "name": "stdout",
     "output_type": "stream",
     "text": [
      "Enter the base of traingle: 15\n",
      "Enter the height of the triangle: 25\n",
      "Area of triangle using base 15.0 and height 25.0 is 187.5 \n"
     ]
    }
   ],
   "source": [
    "#Q3: Write a program to find area of triangle\n",
    "base = float(input(\"Enter the base of traingle: \"))\n",
    "height = float(input(\"Enter the height of the triangle: \"))\n",
    "area = (base * height)/2\n",
    "print(f\"Area of triangle using base {base} and height {height} is {area} \")"
   ]
  },
  {
   "cell_type": "code",
   "execution_count": 9,
   "metadata": {},
   "outputs": [
    {
     "name": "stdout",
     "output_type": "stream",
     "text": [
      "Enter the value a : 20\n",
      "Enter the value b : 25\n",
      "Before swapping two variables: a = 20 and b = 25\n",
      "After swapping two variables: a = 25 and b = 20\n"
     ]
    }
   ],
   "source": [
    "#Q4: Write a program to swap two varaibles\n",
    "\n",
    "a = input(\"Enter the value a : \")\n",
    "b = input(\"Enter the value b : \")\n",
    "print(f\"Before swapping two variables: a = {a} and b = {b}\")\n",
    "temp = a\n",
    "a = b\n",
    "b = temp\n",
    "print(f\"After swapping two variables: a = {a} and b = {b}\")"
   ]
  },
  {
   "cell_type": "code",
   "execution_count": 13,
   "metadata": {},
   "outputs": [
    {
     "name": "stdout",
     "output_type": "stream",
     "text": [
      "Enter the lower limit value: 1\n",
      "Enter the upper limit value: 100\n",
      "Enter the no of values needed: 10\n",
      "20 22 7 65 59 3 20 68 86 68 "
     ]
    }
   ],
   "source": [
    "# Q5: Write a program to generate a random numbers.\n",
    "\n",
    "from random import randint\n",
    "a = int(input(\"Enter the lower limit value: \"))\n",
    "b = int(input(\"Enter the upper limit value: \"))\n",
    "values = int(input(\"Enter the no of values needed: \"))\n",
    "for i in range(0,values):\n",
    "    print(randint(a,b), end = \" \")"
   ]
  },
  {
   "cell_type": "code",
   "execution_count": null,
   "metadata": {},
   "outputs": [],
   "source": []
  }
 ],
 "metadata": {
  "kernelspec": {
   "display_name": "Python 3",
   "language": "python",
   "name": "python3"
  },
  "language_info": {
   "codemirror_mode": {
    "name": "ipython",
    "version": 3
   },
   "file_extension": ".py",
   "mimetype": "text/x-python",
   "name": "python",
   "nbconvert_exporter": "python",
   "pygments_lexer": "ipython3",
   "version": "3.8.3"
  }
 },
 "nbformat": 4,
 "nbformat_minor": 4
}
