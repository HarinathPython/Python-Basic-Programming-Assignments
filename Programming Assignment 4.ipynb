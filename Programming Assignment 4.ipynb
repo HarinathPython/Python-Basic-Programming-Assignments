{
 "cells": [
  {
   "cell_type": "code",
   "execution_count": 3,
   "metadata": {},
   "outputs": [
    {
     "name": "stdout",
     "output_type": "stream",
     "text": [
      "Enter the number to find factorial: 5\n",
      "The Factorial of 5 = 120\n"
     ]
    }
   ],
   "source": [
    "# Q1: Write a python program to find the factorial of a number?\n",
    "\n",
    "num = int(input(\"Enter the number to find factorial: \"))\n",
    "fact = 1\n",
    "for i in range(1,num+1):\n",
    "    fact = fact*i\n",
    "print(f\"The Factorial of {num} = {fact}\")"
   ]
  },
  {
   "cell_type": "code",
   "execution_count": 9,
   "metadata": {},
   "outputs": [
    {
     "name": "stdout",
     "output_type": "stream",
     "text": [
      "Enter the number to display the multiplication table: 25\n",
      "25* 1 = 25\n",
      "25* 2 = 50\n",
      "25* 3 = 75\n",
      "25* 4 = 100\n",
      "25* 5 = 125\n",
      "25* 6 = 150\n",
      "25* 7 = 175\n",
      "25* 8 = 200\n",
      "25* 9 = 225\n",
      "25* 10 = 250\n"
     ]
    }
   ],
   "source": [
    "# Q2: Write a python program to display the multiplication table?\n",
    "\n",
    "a = int(input(\"Enter the number to display the multiplication table: \"))\n",
    "for i in range(1,11):\n",
    "    print(f\"{a}*\",i,\"=\",a*i)\n",
    "    \n",
    "#a = int(input(\"Enter the number to diplay the multiplication table: \"))\n",
    "#i = 0\n",
    "#while i<11:\n",
    "#    print(f\"{a}*\",i,\"=\",a*i)\n",
    "#    i+=1"
   ]
  },
  {
   "cell_type": "code",
   "execution_count": 10,
   "metadata": {},
   "outputs": [
    {
     "name": "stdout",
     "output_type": "stream",
     "text": [
      "Enter the range of numbers to print: 10\n",
      "The fibonacci series is:\n",
      "0\n",
      "1\n",
      "1\n",
      "2\n",
      "3\n",
      "5\n",
      "8\n",
      "13\n",
      "21\n",
      "34\n"
     ]
    }
   ],
   "source": [
    "# Q3: Write a python program to print the fibonacci sequence?\n",
    "\n",
    "number = int(input(\"Enter the range of numbers to print: \"))\n",
    "\n",
    "# initialising the first and second values\n",
    "first_value = 0\n",
    "second_value = 1\n",
    "\n",
    "count = 0\n",
    "\n",
    "if number <= 0:\n",
    "    print(\"Enter any positive integer\")\n",
    "elif number == 1:\n",
    "    print(\"The fibonacci series is \",first_value)\n",
    "else:\n",
    "    print(\"The fibonacci series is:\")\n",
    "    while count < number:\n",
    "        print(first_value)\n",
    "        next = first_value+second_value\n",
    "        first_value = second_value\n",
    "        second_value = next\n",
    "        count+=1"
   ]
  },
  {
   "cell_type": "code",
   "execution_count": 12,
   "metadata": {},
   "outputs": [
    {
     "name": "stdout",
     "output_type": "stream",
     "text": [
      "Enter the number you wish to find Armstrong: 407\n",
      "407  is an Armstrong number.\n"
     ]
    }
   ],
   "source": [
    "# Q4: Write a python program to check Armstrong number?\n",
    "\n",
    "a = int(input(\"Enter the number you wish to find Armstrong: \"))\n",
    "order = len(str(a))\n",
    "\n",
    "sum = 0\n",
    "temp = a\n",
    "while temp > 0:\n",
    "    digit = temp%10\n",
    "    sum += digit**order\n",
    "    temp //= 10\n",
    "    \n",
    "if sum == a:\n",
    "    print(a,\" is an Armstrong number.\")\n",
    "else:\n",
    "    print(a,\" is not an Armstrong number.\")"
   ]
  },
  {
   "cell_type": "code",
   "execution_count": 16,
   "metadata": {},
   "outputs": [
    {
     "name": "stdout",
     "output_type": "stream",
     "text": [
      "Enter the lower limit value of range: 10\n",
      "Enter the upper limit value of range: 10000000\n",
      "153  is an armstrong number.\n",
      "370  is an armstrong number.\n",
      "371  is an armstrong number.\n",
      "407  is an armstrong number.\n",
      "1634  is an armstrong number.\n",
      "8208  is an armstrong number.\n",
      "9474  is an armstrong number.\n",
      "54748  is an armstrong number.\n",
      "92727  is an armstrong number.\n",
      "93084  is an armstrong number.\n",
      "548834  is an armstrong number.\n",
      "1741725  is an armstrong number.\n",
      "4210818  is an armstrong number.\n",
      "9800817  is an armstrong number.\n",
      "9926315  is an armstrong number.\n"
     ]
    }
   ],
   "source": [
    "# Q5: Write a python program to find Armstrong number in an interval?\n",
    "\n",
    "a = int(input(\"Enter the lower limit value of range: \"))\n",
    "b = int(input(\"Enter the upper limit value of range: \"))\n",
    "\n",
    "for i in range(a,b+1):\n",
    "    \n",
    "    order = len(str(i))\n",
    "    sum = 0\n",
    "    temp = i\n",
    "    while temp > 0:\n",
    "        digit = temp%10\n",
    "        sum+=digit**order\n",
    "        temp//=10\n",
    "   \n",
    "    if sum == i:\n",
    "        print(i,\" is an armstrong number.\")"
   ]
  },
  {
   "cell_type": "code",
   "execution_count": 20,
   "metadata": {},
   "outputs": [
    {
     "name": "stdout",
     "output_type": "stream",
     "text": [
      "Enter the number to find sum of n natural numbers: 100\n",
      "Sum of first 100 natural numbers is 5050.0\n"
     ]
    }
   ],
   "source": [
    "# Q6: Write a python program to find sum of natural numbers\n",
    "n = int(input(\"Enter the number to find sum of n natural numbers: \"))\n",
    "sum = n*(n+1)/2\n",
    "print(f\"Sum of first {n} natural numbers is {sum}\")"
   ]
  },
  {
   "cell_type": "code",
   "execution_count": null,
   "metadata": {},
   "outputs": [],
   "source": []
  }
 ],
 "metadata": {
  "kernelspec": {
   "display_name": "Python 3",
   "language": "python",
   "name": "python3"
  },
  "language_info": {
   "codemirror_mode": {
    "name": "ipython",
    "version": 3
   },
   "file_extension": ".py",
   "mimetype": "text/x-python",
   "name": "python",
   "nbconvert_exporter": "python",
   "pygments_lexer": "ipython3",
   "version": "3.8.3"
  }
 },
 "nbformat": 4,
 "nbformat_minor": 4
}
